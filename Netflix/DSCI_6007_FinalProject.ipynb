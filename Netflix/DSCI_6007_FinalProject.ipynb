{
 "cells": [
  {
   "cell_type": "code",
   "execution_count": 71,
   "metadata": {},
   "outputs": [
    {
     "data": {
      "text/html": [
       "\n",
       "        <div>\n",
       "            <p><b>SparkContext</b></p>\n",
       "\n",
       "            <p><a href=\"http://ip-172-31-33-214.us-east-2.compute.internal:4040\">Spark UI</a></p>\n",
       "\n",
       "            <dl>\n",
       "              <dt>Version</dt>\n",
       "                <dd><code>v2.4.4</code></dd>\n",
       "              <dt>Master</dt>\n",
       "                <dd><code>yarn</code></dd>\n",
       "              <dt>AppName</dt>\n",
       "                <dd><code>PySparkShell</code></dd>\n",
       "            </dl>\n",
       "        </div>\n",
       "        "
      ],
      "text/plain": [
       "<SparkContext master=yarn appName=PySparkShell>"
      ]
     },
     "execution_count": 71,
     "metadata": {},
     "output_type": "execute_result"
    }
   ],
   "source": [
    "sc"
   ]
  },
  {
   "cell_type": "code",
   "execution_count": 72,
   "metadata": {},
   "outputs": [],
   "source": [
    "import pandas as pd\n",
    "import numpy as np\n",
    "import matplotlib.pyplot as plt\n",
    "import seaborn as sns\n",
    "\n",
    "import sklearn.metrics as metrics\n",
    "from sklearn.neighbors import NearestNeighbors\n",
    "from scipy.spatial.distance import correlation\n",
    "from scipy.sparse import csr_matrix\n",
    "from sklearn.metrics.pairwise import pairwise_distances\n",
    "from sklearn.metrics.pairwise import cosine_similarity\n",
    "\n",
    "import pyspark\n",
    "from pyspark.ml.evaluation import RegressionEvaluator\n",
    "from pyspark.ml.recommendation import ALS\n",
    "from pyspark.sql import Row\n",
    "from pyspark.ml.evaluation import RegressionEvaluator\n",
    "from pyspark.ml.recommendation import ALS\n",
    "from pyspark.sql import Row\n",
    "from pyspark import SparkConf,SparkContext\n",
    "from pyspark.sql.types import *\n",
    "from pyspark.sql import SQLContext\n",
    "\n",
    "sc.stop()\n"
   ]
  },
  {
   "cell_type": "code",
   "execution_count": 73,
   "metadata": {},
   "outputs": [],
   "source": [
    "import warnings\n",
    "warnings.filterwarnings('ignore')"
   ]
  },
  {
   "cell_type": "code",
   "execution_count": 74,
   "metadata": {},
   "outputs": [],
   "source": [
    "sc = SparkContext.getOrCreate()\n",
    "sqlContext = SQLContext(sc)"
   ]
  },
  {
   "cell_type": "markdown",
   "metadata": {},
   "source": [
    "**Creating schemas for the data to be imported from Amazon S3**"
   ]
  },
  {
   "cell_type": "code",
   "execution_count": 75,
   "metadata": {},
   "outputs": [],
   "source": [
    "ratings_df_schema = StructType(\n",
    "  [StructField('movie', IntegerType()),\n",
    "   StructField('user', IntegerType()),\n",
    "   StructField('rating', DoubleType())]\n",
    ")"
   ]
  },
  {
   "cell_type": "code",
   "execution_count": 76,
   "metadata": {},
   "outputs": [],
   "source": [
    "movie_schema = StructType(\n",
    "  [StructField('movie', IntegerType()),\n",
    "   StructField('year', IntegerType()),\n",
    "   StructField('title', StringType())]\n",
    ")"
   ]
  },
  {
   "cell_type": "markdown",
   "metadata": {},
   "source": [
    "**Importing all the datasets viz. Training, testing and movies into different dataframes**"
   ]
  },
  {
   "cell_type": "code",
   "execution_count": 77,
   "metadata": {},
   "outputs": [
    {
     "name": "stdout",
     "output_type": "stream",
     "text": [
      "+-----+-------+------+\n",
      "|movie|   user|rating|\n",
      "+-----+-------+------+\n",
      "|    8|1744889|   1.0|\n",
      "|    8|1395430|   2.0|\n",
      "|    8|1205593|   4.0|\n",
      "|    8|1488844|   4.0|\n",
      "|    8|1447354|   1.0|\n",
      "|    8| 306466|   4.0|\n",
      "|    8|1331154|   4.0|\n",
      "|    8|1818178|   3.0|\n",
      "|    8| 991725|   4.0|\n",
      "|    8|1987434|   4.0|\n",
      "+-----+-------+------+\n",
      "only showing top 10 rows\n",
      "\n"
     ]
    }
   ],
   "source": [
    "train = sqlContext.read.format('csv').schema(ratings_df_schema).load(\"s3a://movrec/TrainingRatings.txt\")\n",
    "train.show(10)"
   ]
  },
  {
   "cell_type": "code",
   "execution_count": 78,
   "metadata": {},
   "outputs": [
    {
     "name": "stdout",
     "output_type": "stream",
     "text": [
      "+-----+-------+------+\n",
      "|movie|   user|rating|\n",
      "+-----+-------+------+\n",
      "|    8| 573364|   1.0|\n",
      "|    8|2149668|   3.0|\n",
      "|    8|1089184|   3.0|\n",
      "|    8|2465894|   3.0|\n",
      "|    8| 534508|   1.0|\n",
      "|    8| 992921|   4.0|\n",
      "|    8| 595054|   4.0|\n",
      "|    8|1298304|   4.0|\n",
      "|    8|1661600|   4.0|\n",
      "|    8| 553787|   2.0|\n",
      "+-----+-------+------+\n",
      "only showing top 10 rows\n",
      "\n"
     ]
    }
   ],
   "source": [
    "test = sqlContext.read.format('csv').schema(ratings_df_schema).load('s3a://movrec/TestingRatings.txt')\n",
    "test.show(10)"
   ]
  },
  {
   "cell_type": "code",
   "execution_count": 79,
   "metadata": {},
   "outputs": [
    {
     "name": "stdout",
     "output_type": "stream",
     "text": [
      "+-----+----+--------------------+\n",
      "|movie|year|               title|\n",
      "+-----+----+--------------------+\n",
      "|    1|2003|     Dinosaur Planet|\n",
      "|    2|2004|Isle of Man TT 20...|\n",
      "|    3|1997|           Character|\n",
      "|    4|1994|Paula Abdul's Get...|\n",
      "|    5|2004|The Rise and Fall...|\n",
      "|    6|1997|                Sick|\n",
      "|    7|1992|               8 Man|\n",
      "|    8|2004|What the #$*! Do ...|\n",
      "|    9|1991|Class of Nuke 'Em...|\n",
      "|   10|2001|             Fighter|\n",
      "+-----+----+--------------------+\n",
      "only showing top 10 rows\n",
      "\n"
     ]
    }
   ],
   "source": [
    "movies= sqlContext.read.format('csv').schema(movie_schema).load(\"s3a://movrec/movie_titles.txt\")\n",
    "movies.show(10)"
   ]
  },
  {
   "cell_type": "code",
   "execution_count": 107,
   "metadata": {},
   "outputs": [
    {
     "name": "stdout",
     "output_type": "stream",
     "text": [
      "+-----+-------+------+----+--------------------+----+--------------------+\n",
      "|movie|   user|rating|year|               title|year|               title|\n",
      "+-----+-------+------+----+--------------------+----+--------------------+\n",
      "|    8|1744889|   1.0|2004|What the #$*! Do ...|2004|What the #$*! Do ...|\n",
      "|    8|1395430|   2.0|2004|What the #$*! Do ...|2004|What the #$*! Do ...|\n",
      "|    8|1205593|   4.0|2004|What the #$*! Do ...|2004|What the #$*! Do ...|\n",
      "|    8|1488844|   4.0|2004|What the #$*! Do ...|2004|What the #$*! Do ...|\n",
      "|    8|1447354|   1.0|2004|What the #$*! Do ...|2004|What the #$*! Do ...|\n",
      "|    8| 306466|   4.0|2004|What the #$*! Do ...|2004|What the #$*! Do ...|\n",
      "|    8|1331154|   4.0|2004|What the #$*! Do ...|2004|What the #$*! Do ...|\n",
      "|    8|1818178|   3.0|2004|What the #$*! Do ...|2004|What the #$*! Do ...|\n",
      "|    8| 991725|   4.0|2004|What the #$*! Do ...|2004|What the #$*! Do ...|\n",
      "|    8|1987434|   4.0|2004|What the #$*! Do ...|2004|What the #$*! Do ...|\n",
      "+-----+-------+------+----+--------------------+----+--------------------+\n",
      "only showing top 10 rows\n",
      "\n"
     ]
    }
   ],
   "source": [
    "train = train.join(movies, on=['movie'], how='inner')\n",
    "train.show(10)"
   ]
  },
  {
   "cell_type": "markdown",
   "metadata": {},
   "source": [
    "**Converting the data from spark to Pandas dataframe for anaylysis**"
   ]
  },
  {
   "cell_type": "code",
   "execution_count": 80,
   "metadata": {},
   "outputs": [],
   "source": [
    "training_data = train.toPandas()\n",
    "testing_data = test.toPandas()\n",
    "movie_data = movies.toPandas()"
   ]
  },
  {
   "cell_type": "markdown",
   "metadata": {},
   "source": [
    "**Calculating the distinct users in testing data**"
   ]
  },
  {
   "cell_type": "code",
   "execution_count": 81,
   "metadata": {},
   "outputs": [
    {
     "data": {
      "text/plain": [
       "27555"
      ]
     },
     "execution_count": 81,
     "metadata": {},
     "output_type": "execute_result"
    }
   ],
   "source": [
    "testing_data[\"user\"].nunique()"
   ]
  },
  {
   "cell_type": "code",
   "execution_count": 82,
   "metadata": {},
   "outputs": [
    {
     "data": {
      "text/plain": [
       "Text(0, 0.5, 'Count')"
      ]
     },
     "execution_count": 82,
     "metadata": {},
     "output_type": "execute_result"
    },
    {
     "data": {
      "image/png": "[encoded data removed]",
      "text/plain": [
       "<Figure size 720x432 with 1 Axes>"
      ]
     },
     "metadata": {
      "needs_background": "light"
     },
     "output_type": "display_data"
    }
   ],
   "source": [
    "plt.figure(figsize=(10,6))\n",
    "sns.countplot(training_data[\"rating\"], palette = \"plasma\")\n",
    "plt.title(\"Rating count\")\n",
    "plt.xlabel(\"Ratings\")\n",
    "plt.ylabel(\"Count\")"
   ]
  },
  {
   "cell_type": "code",
   "execution_count": 83,
   "metadata": {},
   "outputs": [
    {
     "data": {
      "text/plain": [
       "Text(0, 0.5, 'Rating count')"
      ]
     },
     "execution_count": 83,
     "metadata": {},
     "output_type": "execute_result"
    },
    {
     "data": {
      "image/png": "[encoded data removed]",
      "text/plain": [
       "<Figure size 720x432 with 1 Axes>"
      ]
     },
     "metadata": {
      "needs_background": "light"
     },
     "output_type": "display_data"
    }
   ],
   "source": [
    "plt.figure(figsize=(10,6))\n",
    "mov_rat = pd.DataFrame(training_data[\"rating\"].groupby(training_data[\"movie\"]).count())\n",
    "top10_mov = mov_rat.sort_values(\"rating\", ascending =False)[:10]\n",
    "top10_mov = top10_mov.reset_index()\n",
    "sns.barplot(top10_mov[\"movie\"],top10_mov[\"rating\"])\n",
    "plt.title(\"Top rated movies\")\n",
    "plt.xlabel(\"Movie ID\")\n",
    "plt.ylabel(\"Rating count\")"
   ]
  },
  {
   "cell_type": "markdown",
   "metadata": {},
   "source": [
    "**Creating a subset for testing the two collaborative filter methods**"
   ]
  },
  {
   "cell_type": "code",
   "execution_count": 84,
   "metadata": {},
   "outputs": [
    {
     "data": {
      "text/html": [
       "<div>\n",
       "<style scoped>\n",
       "    .dataframe tbody tr th:only-of-type {\n",
       "        vertical-align: middle;\n",
       "    }\n",
       "\n",
       "    .dataframe tbody tr th {\n",
       "        vertical-align: top;\n",
       "    }\n",
       "\n",
       "    .dataframe thead th {\n",
       "        text-align: right;\n",
       "    }\n",
       "</style>\n",
       "<table border=\"1\" class=\"dataframe\">\n",
       "  <thead>\n",
       "    <tr style=\"text-align: right;\">\n",
       "      <th></th>\n",
       "      <th>movie</th>\n",
       "      <th>user</th>\n",
       "      <th>rating</th>\n",
       "    </tr>\n",
       "  </thead>\n",
       "  <tbody>\n",
       "    <tr>\n",
       "      <th>9995</th>\n",
       "      <td>28</td>\n",
       "      <td>538321</td>\n",
       "      <td>5.0</td>\n",
       "    </tr>\n",
       "    <tr>\n",
       "      <th>9996</th>\n",
       "      <td>28</td>\n",
       "      <td>968133</td>\n",
       "      <td>4.0</td>\n",
       "    </tr>\n",
       "    <tr>\n",
       "      <th>9997</th>\n",
       "      <td>28</td>\n",
       "      <td>1523919</td>\n",
       "      <td>4.0</td>\n",
       "    </tr>\n",
       "    <tr>\n",
       "      <th>9998</th>\n",
       "      <td>28</td>\n",
       "      <td>1230004</td>\n",
       "      <td>3.0</td>\n",
       "    </tr>\n",
       "    <tr>\n",
       "      <th>9999</th>\n",
       "      <td>28</td>\n",
       "      <td>1988375</td>\n",
       "      <td>3.0</td>\n",
       "    </tr>\n",
       "  </tbody>\n",
       "</table>\n",
       "</div>"
      ],
      "text/plain": [
       "      movie     user  rating\n",
       "9995     28   538321     5.0\n",
       "9996     28   968133     4.0\n",
       "9997     28  1523919     4.0\n",
       "9998     28  1230004     3.0\n",
       "9999     28  1988375     3.0"
      ]
     },
     "execution_count": 84,
     "metadata": {},
     "output_type": "execute_result"
    }
   ],
   "source": [
    "subset_train = training_data[:10000]\n",
    "subset_train.tail()"
   ]
  },
  {
   "cell_type": "markdown",
   "metadata": {},
   "source": [
    "**Creating a item-item table for testing this collaborative method**"
   ]
  },
  {
   "cell_type": "code",
   "execution_count": 85,
   "metadata": {},
   "outputs": [],
   "source": [
    "item_item_filter = subset_train.pivot(\n",
    "    index='movie',\n",
    "    columns='user',\n",
    "    values='rating'\n",
    ").fillna(0).astype(np.int32)"
   ]
  },
  {
   "cell_type": "code",
   "execution_count": 86,
   "metadata": {},
   "outputs": [
    {
     "data": {
      "text/html": [
       "<div>\n",
       "<style scoped>\n",
       "    .dataframe tbody tr th:only-of-type {\n",
       "        vertical-align: middle;\n",
       "    }\n",
       "\n",
       "    .dataframe tbody tr th {\n",
       "        vertical-align: top;\n",
       "    }\n",
       "\n",
       "    .dataframe thead th {\n",
       "        text-align: right;\n",
       "    }\n",
       "</style>\n",
       "<table border=\"1\" class=\"dataframe\">\n",
       "  <thead>\n",
       "    <tr style=\"text-align: right;\">\n",
       "      <th>user</th>\n",
       "      <th>7</th>\n",
       "      <th>906</th>\n",
       "      <th>1333</th>\n",
       "      <th>1442</th>\n",
       "      <th>1500</th>\n",
       "      <th>1527</th>\n",
       "      <th>2000</th>\n",
       "      <th>2213</th>\n",
       "      <th>2678</th>\n",
       "      <th>2905</th>\n",
       "      <th>...</th>\n",
       "      <th>2646712</th>\n",
       "      <th>2647197</th>\n",
       "      <th>2647406</th>\n",
       "      <th>2648085</th>\n",
       "      <th>2648181</th>\n",
       "      <th>2648287</th>\n",
       "      <th>2648465</th>\n",
       "      <th>2648589</th>\n",
       "      <th>2648730</th>\n",
       "      <th>2648885</th>\n",
       "    </tr>\n",
       "    <tr>\n",
       "      <th>movie</th>\n",
       "      <th></th>\n",
       "      <th></th>\n",
       "      <th></th>\n",
       "      <th></th>\n",
       "      <th></th>\n",
       "      <th></th>\n",
       "      <th></th>\n",
       "      <th></th>\n",
       "      <th></th>\n",
       "      <th></th>\n",
       "      <th></th>\n",
       "      <th></th>\n",
       "      <th></th>\n",
       "      <th></th>\n",
       "      <th></th>\n",
       "      <th></th>\n",
       "      <th></th>\n",
       "      <th></th>\n",
       "      <th></th>\n",
       "      <th></th>\n",
       "      <th></th>\n",
       "    </tr>\n",
       "  </thead>\n",
       "  <tbody>\n",
       "    <tr>\n",
       "      <th>8</th>\n",
       "      <td>5</td>\n",
       "      <td>0</td>\n",
       "      <td>3</td>\n",
       "      <td>0</td>\n",
       "      <td>0</td>\n",
       "      <td>0</td>\n",
       "      <td>0</td>\n",
       "      <td>0</td>\n",
       "      <td>0</td>\n",
       "      <td>0</td>\n",
       "      <td>...</td>\n",
       "      <td>0</td>\n",
       "      <td>1</td>\n",
       "      <td>0</td>\n",
       "      <td>0</td>\n",
       "      <td>0</td>\n",
       "      <td>0</td>\n",
       "      <td>0</td>\n",
       "      <td>0</td>\n",
       "      <td>0</td>\n",
       "      <td>0</td>\n",
       "    </tr>\n",
       "    <tr>\n",
       "      <th>28</th>\n",
       "      <td>4</td>\n",
       "      <td>3</td>\n",
       "      <td>2</td>\n",
       "      <td>4</td>\n",
       "      <td>1</td>\n",
       "      <td>5</td>\n",
       "      <td>4</td>\n",
       "      <td>5</td>\n",
       "      <td>2</td>\n",
       "      <td>5</td>\n",
       "      <td>...</td>\n",
       "      <td>5</td>\n",
       "      <td>0</td>\n",
       "      <td>3</td>\n",
       "      <td>5</td>\n",
       "      <td>5</td>\n",
       "      <td>3</td>\n",
       "      <td>4</td>\n",
       "      <td>3</td>\n",
       "      <td>4</td>\n",
       "      <td>4</td>\n",
       "    </tr>\n",
       "  </tbody>\n",
       "</table>\n",
       "<p>2 rows × 9378 columns</p>\n",
       "</div>"
      ],
      "text/plain": [
       "user   7        906      1333     1442     1500     1527     2000     2213     \\\n",
       "movie                                                                           \n",
       "8            5        0        3        0        0        0        0        0   \n",
       "28           4        3        2        4        1        5        4        5   \n",
       "\n",
       "user   2678     2905     ...  2646712  2647197  2647406  2648085  2648181  \\\n",
       "movie                    ...                                                \n",
       "8            0        0  ...        0        1        0        0        0   \n",
       "28           2        5  ...        5        0        3        5        5   \n",
       "\n",
       "user   2648287  2648465  2648589  2648730  2648885  \n",
       "movie                                               \n",
       "8            0        0        0        0        0  \n",
       "28           3        4        3        4        4  \n",
       "\n",
       "[2 rows x 9378 columns]"
      ]
     },
     "execution_count": 86,
     "metadata": {},
     "output_type": "execute_result"
    }
   ],
   "source": [
    "item_item_filter.head()"
   ]
  },
  {
   "cell_type": "markdown",
   "metadata": {},
   "source": [
    "**Converting the table into a matrix for further evaluation**"
   ]
  },
  {
   "cell_type": "code",
   "execution_count": 87,
   "metadata": {},
   "outputs": [],
   "source": [
    "item_matrix = csr_matrix(item_item_filter.values)"
   ]
  },
  {
   "cell_type": "code",
   "execution_count": 88,
   "metadata": {},
   "outputs": [
    {
     "data": {
      "text/plain": [
       "array([[5, 0, 3, ..., 0, 0, 0],\n",
       "       [4, 3, 2, ..., 3, 4, 4]], dtype=int32)"
      ]
     },
     "execution_count": 88,
     "metadata": {},
     "output_type": "execute_result"
    }
   ],
   "source": [
    "item_matrix.toarray()"
   ]
  },
  {
   "cell_type": "markdown",
   "metadata": {},
   "source": [
    "**Finding cosine similarity between the entitites and averaging them out**"
   ]
  },
  {
   "cell_type": "code",
   "execution_count": 89,
   "metadata": {},
   "outputs": [],
   "source": [
    "item_sim=cosine_similarity(X=item_matrix.T,dense_output=False)"
   ]
  },
  {
   "cell_type": "code",
   "execution_count": 90,
   "metadata": {},
   "outputs": [
    {
     "data": {
      "text/plain": [
       "0.6359496022864369"
      ]
     },
     "execution_count": 90,
     "metadata": {},
     "output_type": "execute_result"
    }
   ],
   "source": [
    "item_sim.toarray().mean()"
   ]
  },
  {
   "cell_type": "code",
   "execution_count": null,
   "metadata": {},
   "outputs": [],
   "source": []
  },
  {
   "cell_type": "markdown",
   "metadata": {},
   "source": [
    "**Creating a user-user table for testing this collaborative method**"
   ]
  },
  {
   "cell_type": "code",
   "execution_count": 91,
   "metadata": {},
   "outputs": [],
   "source": [
    "user_user_filter = subset_train.pivot(\n",
    "    index='user',\n",
    "    columns='movie',\n",
    "    values='rating'\n",
    ").fillna(0).astype(np.int32)"
   ]
  },
  {
   "cell_type": "code",
   "execution_count": 92,
   "metadata": {},
   "outputs": [
    {
     "data": {
      "text/html": [
       "<div>\n",
       "<style scoped>\n",
       "    .dataframe tbody tr th:only-of-type {\n",
       "        vertical-align: middle;\n",
       "    }\n",
       "\n",
       "    .dataframe tbody tr th {\n",
       "        vertical-align: top;\n",
       "    }\n",
       "\n",
       "    .dataframe thead th {\n",
       "        text-align: right;\n",
       "    }\n",
       "</style>\n",
       "<table border=\"1\" class=\"dataframe\">\n",
       "  <thead>\n",
       "    <tr style=\"text-align: right;\">\n",
       "      <th>movie</th>\n",
       "      <th>8</th>\n",
       "      <th>28</th>\n",
       "    </tr>\n",
       "    <tr>\n",
       "      <th>user</th>\n",
       "      <th></th>\n",
       "      <th></th>\n",
       "    </tr>\n",
       "  </thead>\n",
       "  <tbody>\n",
       "    <tr>\n",
       "      <th>7</th>\n",
       "      <td>5</td>\n",
       "      <td>4</td>\n",
       "    </tr>\n",
       "    <tr>\n",
       "      <th>906</th>\n",
       "      <td>0</td>\n",
       "      <td>3</td>\n",
       "    </tr>\n",
       "    <tr>\n",
       "      <th>1333</th>\n",
       "      <td>3</td>\n",
       "      <td>2</td>\n",
       "    </tr>\n",
       "    <tr>\n",
       "      <th>1442</th>\n",
       "      <td>0</td>\n",
       "      <td>4</td>\n",
       "    </tr>\n",
       "    <tr>\n",
       "      <th>1500</th>\n",
       "      <td>0</td>\n",
       "      <td>1</td>\n",
       "    </tr>\n",
       "  </tbody>\n",
       "</table>\n",
       "</div>"
      ],
      "text/plain": [
       "movie  8   28\n",
       "user         \n",
       "7       5   4\n",
       "906     0   3\n",
       "1333    3   2\n",
       "1442    0   4\n",
       "1500    0   1"
      ]
     },
     "execution_count": 92,
     "metadata": {},
     "output_type": "execute_result"
    }
   ],
   "source": [
    "user_user_filter.head()"
   ]
  },
  {
   "cell_type": "markdown",
   "metadata": {},
   "source": [
    "**Converting the table into a matrix for further evaluation**"
   ]
  },
  {
   "cell_type": "code",
   "execution_count": 93,
   "metadata": {},
   "outputs": [],
   "source": [
    "user_matrix = csr_matrix(user_user_filter.values)"
   ]
  },
  {
   "cell_type": "code",
   "execution_count": 94,
   "metadata": {},
   "outputs": [
    {
     "data": {
      "text/plain": [
       "array([[5, 4],\n",
       "       [0, 3],\n",
       "       [3, 2],\n",
       "       ...,\n",
       "       [0, 3],\n",
       "       [0, 4],\n",
       "       [0, 4]], dtype=int32)"
      ]
     },
     "execution_count": 94,
     "metadata": {},
     "output_type": "execute_result"
    }
   ],
   "source": [
    "user_matrix.toarray()"
   ]
  },
  {
   "cell_type": "markdown",
   "metadata": {},
   "source": [
    "**Finding cosine similarity between the entitites and averaging them out**"
   ]
  },
  {
   "cell_type": "code",
   "execution_count": 95,
   "metadata": {},
   "outputs": [],
   "source": [
    "user_sim=cosine_similarity(X=user_matrix.T,dense_output=False)"
   ]
  },
  {
   "cell_type": "code",
   "execution_count": 96,
   "metadata": {},
   "outputs": [
    {
     "data": {
      "text/plain": [
       "0.5585008721224045"
      ]
     },
     "execution_count": 96,
     "metadata": {},
     "output_type": "execute_result"
    }
   ],
   "source": [
    "user_sim.toarray().mean()"
   ]
  },
  {
   "cell_type": "markdown",
   "metadata": {},
   "source": [
    "**The matrices above shows that we can find higher similarity rates with the item-item collaborative techniques which makes the job of selecting new recommendations easier, making it a better technique in this case**"
   ]
  },
  {
   "cell_type": "code",
   "execution_count": 102,
   "metadata": {},
   "outputs": [],
   "source": [
    "def knn_model(uid,matrix):\n",
    "    model_knn = NearestNeighbors(metric = 'cosine', algorithm = 'brute') \n",
    "    model_knn.fit(matrix)\n",
    "    loc = matrix.index.get_loc(uid)\n",
    "    distance, indices = model_knn.kneighbors(matrix.iloc[loc, :].values.reshape(1, -1), n_neighbors = 10)\n",
    "\n",
    "    return distance, indices\n",
    "    "
   ]
  },
  {
   "cell_type": "code",
   "execution_count": 98,
   "metadata": {},
   "outputs": [],
   "source": [
    "def simuser(uid,matrix):\n",
    "    dist, index = knn_model(uid,matrix)\n",
    "    sim_val = 1-dist.flatten()\n",
    "            \n",
    "    return sim_val,index"
   ]
  },
  {
   "cell_type": "markdown",
   "metadata": {},
   "source": [
    "**Finding the similarity of a user with all other items in the matrix**"
   ]
  },
  {
   "cell_type": "code",
   "execution_count": 101,
   "metadata": {
    "scrolled": true
   },
   "outputs": [
    {
     "data": {
      "text/plain": [
       "(array([1.        , 0.11700174]), array([[1, 0]]))"
      ]
     },
     "execution_count": 101,
     "metadata": {},
     "output_type": "execute_result"
    }
   ],
   "source": [
    "simuser(28,item_item_filter)"
   ]
  },
  {
   "cell_type": "code",
   "execution_count": 103,
   "metadata": {},
   "outputs": [
    {
     "data": {
      "text/plain": [
       "(array([1., 1., 1., 1., 1., 1., 1., 1., 1., 1.]),\n",
       " array([[5678, 5681, 5674, 5675, 5676, 5677, 5670, 5679, 5689, 5685]]))"
      ]
     },
     "execution_count": 103,
     "metadata": {},
     "output_type": "execute_result"
    }
   ],
   "source": [
    "simuser(1500,user_user_filter)"
   ]
  },
  {
   "cell_type": "markdown",
   "metadata": {},
   "source": [
    "**Training the matrices using the ALS algorithm from ML library of pyspark which is specifically made to make recommendation systems**"
   ]
  },
  {
   "cell_type": "code",
   "execution_count": 108,
   "metadata": {},
   "outputs": [
    {
     "name": "stdout",
     "output_type": "stream",
     "text": [
      "Mean squared error = 0.8204542053580549\n",
      "Root-mean-square error = 0.9057892720484466\n"
     ]
    }
   ],
   "source": [
    "als = ALS(maxIter=10, regParam=0.22, userCol=\"user\", itemCol=\"movie\", ratingCol=\"rating\",\n",
    "          coldStartStrategy=\"drop\")\n",
    "model = als.fit(train)\n",
    "\n",
    "# Evaluate the model by computing the RMSE on the test data\n",
    "predictions = model.transform(test)\n",
    "\n",
    "rmse_val = RegressionEvaluator(metricName=\"rmse\", labelCol=\"rating\",predictionCol=\"prediction\")\n",
    "\n",
    "\n",
    "mse_val = RegressionEvaluator(metricName=\"mse\", labelCol=\"rating\",predictionCol=\"prediction\")\n",
    "                                            \n",
    "rmse = rmse_val.evaluate(predictions)\n",
    "mse = mse_val.evaluate(predictions)\n",
    "\n",
    "print(\"Mean squared error = \" + str(mse))\n",
    "print(\"Root-mean-square error = \" + str(rmse))"
   ]
  },
  {
   "cell_type": "code",
   "execution_count": 109,
   "metadata": {},
   "outputs": [
    {
     "name": "stdout",
     "output_type": "stream",
     "text": [
      "+-----+-------+------+----------+\n",
      "|movie|   user|rating|prediction|\n",
      "+-----+-------+------+----------+\n",
      "| 2366|1484561|   4.0| 3.2380471|\n",
      "| 2366| 397212|   2.0| 2.3661156|\n",
      "| 2366| 298900|   2.0| 2.5993316|\n",
      "| 2366| 542323|   2.0|  2.386564|\n",
      "| 2366| 692235|   3.0|  2.999948|\n",
      "| 2366|2552319|   3.0| 2.2941983|\n",
      "| 2366| 799826|   2.0| 2.7930992|\n",
      "| 2366|1848661|   3.0|  3.080878|\n",
      "| 2366|1870288|   2.0| 3.6322794|\n",
      "| 2366|2522831|   3.0| 2.6743345|\n",
      "+-----+-------+------+----------+\n",
      "only showing top 10 rows\n",
      "\n"
     ]
    }
   ],
   "source": [
    "predictions.show(10)"
   ]
  },
  {
   "cell_type": "markdown",
   "metadata": {},
   "source": [
    "**Adding personal records to the training data and using union operator to do it**"
   ]
  },
  {
   "cell_type": "code",
   "execution_count": 54,
   "metadata": {},
   "outputs": [
    {
     "name": "stdout",
     "output_type": "stream",
     "text": [
      "+-------+------+------+\n",
      "|movieId|userId|rating|\n",
      "+-------+------+------+\n",
      "|      8|     0|   4.0|\n",
      "|     28|     0|   3.0|\n",
      "+-------+------+------+\n",
      "only showing top 2 rows\n",
      "\n"
     ]
    }
   ],
   "source": [
    "user_df = sqlContext.read.format('csv').schema(ratings_df_schema).load('s3://movrec/self-user.txt')\n",
    "user_df.show(2)"
   ]
  },
  {
   "cell_type": "code",
   "execution_count": 55,
   "metadata": {},
   "outputs": [],
   "source": [
    "train = train.union(user_df)"
   ]
  },
  {
   "cell_type": "code",
   "execution_count": 60,
   "metadata": {},
   "outputs": [
    {
     "data": {
      "text/plain": [
       "14"
      ]
     },
     "execution_count": 60,
     "metadata": {},
     "output_type": "execute_result"
    }
   ],
   "source": [
    "my_data = train_d.filter(train_d.user == 0)\n",
    "my_data.count()"
   ]
  },
  {
   "cell_type": "markdown",
   "metadata": {},
   "source": [
    "**Recommedations for the movies I rated**"
   ]
  },
  {
   "cell_type": "code",
   "execution_count": 59,
   "metadata": {},
   "outputs": [
    {
     "name": "stdout",
     "output_type": "stream",
     "text": [
      "+----+----------------------------------------------------------------------------------------------------------------------------------------------------------------------------------------------+\n",
      "|user|recommendations                                                                                                                                                                               |\n",
      "+----+----------------------------------------------------------------------------------------------------------------------------------------------------------------------------------------------+\n",
      "|0   |[[12293, 4.9477453], [3033, 4.946212], [16147, 4.9320965], [5760, 4.910286], [7569, 4.9082975], [14648, 4.8423414], [4238, 4.8208046], [3290, 4.819887], [10080, 4.812768], [1472, 4.8005705]]|\n",
      "+----+----------------------------------------------------------------------------------------------------------------------------------------------------------------------------------------------+\n",
      "\n"
     ]
    }
   ],
   "source": [
    "# users = train_d.select(als.getUserCol()).where(train_d.user == 0)\n",
    "userSubsetRecs = model.recommendForUserSubset(my_data, 10)\n",
    "userSubsetRecs.show(truncate =False)"
   ]
  },
  {
   "cell_type": "code",
   "execution_count": 62,
   "metadata": {},
   "outputs": [],
   "source": [
    "my_recc = [3033,16147,12293,7569,5760,14648,4238,10080,3290,1472]"
   ]
  },
  {
   "cell_type": "code",
   "execution_count": 63,
   "metadata": {},
   "outputs": [
    {
     "data": {
      "text/plain": [
       "[Row(movie=1472, year=2004, title='The Stink of Flesh'),\n",
       " Row(movie=3033, year=2005, title='Ghost in the Shell: Stand Alone Complex: 2nd Gig'),\n",
       " Row(movie=3290, year=1974, title='The Godfather'),\n",
       " Row(movie=4238, year=2000, title='Inu-Yasha'),\n",
       " Row(movie=5760, year=2001, title='The Sopranos: Season 3'),\n",
       " Row(movie=7569, year=2004, title='Dead Like Me: Season 2'),\n",
       " Row(movie=10080, year=2001, title='Six Feet Under: Season 2'),\n",
       " Row(movie=12293, year=1972, title='The Godfather'),\n",
       " Row(movie=14648, year=2003, title='Finding Nemo (Full-screen)'),\n",
       " Row(movie=16147, year=1999, title='The Sopranos: Season 1')]"
      ]
     },
     "execution_count": 63,
     "metadata": {},
     "output_type": "execute_result"
    }
   ],
   "source": [
    "recc_df = movies[movies.movie.isin(my_recc)]\n",
    "recc_df.head(10)"
   ]
  },
  {
   "cell_type": "code",
   "execution_count": null,
   "metadata": {},
   "outputs": [],
   "source": []
  }
 ],
 "metadata": {
  "kernelspec": {
   "display_name": "Python 3",
   "language": "python",
   "name": "python3"
  },
  "language_info": {
   "codemirror_mode": {
    "name": "ipython",
    "version": 3
   },
   "file_extension": ".py",
   "mimetype": "text/x-python",
   "name": "python",
   "nbconvert_exporter": "python",
   "pygments_lexer": "ipython3",
   "version": "3.7.3"
  }
 },
 "nbformat": 4,
 "nbformat_minor": 4
}
